{
 "cells": [
  {
   "cell_type": "markdown",
   "id": "b000dd11-da3a-4fbe-acdf-1d9995ea3efe",
   "metadata": {},
   "source": [
    "# Bar chart: migrant activities\n",
    "\n",
    "Code build to plot the number of migrants working in each economic sector in Cataluña using Plotly"
   ]
  },
  {
   "cell_type": "code",
   "execution_count": 5,
   "id": "4de683a0-3f2a-476c-adba-419c1cee9a00",
   "metadata": {},
   "outputs": [],
   "source": [
    "#import the libraries needed for the project\n",
    "\n",
    "import plotly.express as px\n",
    "import pandas as pd"
   ]
  },
  {
   "cell_type": "code",
   "execution_count": 13,
   "id": "e1172f48-8f74-4afb-bf58-066e2bf8e5af",
   "metadata": {},
   "outputs": [],
   "source": [
    "# Create the DataFrame\n",
    "df = pd.DataFrame({\n",
    "    \"Economic Sector\": [\"Primary sector\", \"Industry\", \"Construction\", \"Service Sector\"],\n",
    "    \"population\": [22494, 78033, 55221, 553860]\n",
    "})"
   ]
  },
  {
   "cell_type": "code",
   "execution_count": 14,
   "id": "57424347-ad34-4a36-8319-4fa158413903",
   "metadata": {},
   "outputs": [
    {
     "name": "stdout",
     "output_type": "stream",
     "text": [
      "Economic Sector    object\n",
      "population          int64\n",
      "dtype: object\n"
     ]
    }
   ],
   "source": [
    "print(df.dtypes)"
   ]
  },
  {
   "cell_type": "code",
   "execution_count": 16,
   "id": "cf0c4aa6-1596-4b4c-a121-bb43e1c85c49",
   "metadata": {},
   "outputs": [],
   "source": [
    "# Create a bar chart\n",
    "fig = px.bar(\n",
    "    df,\n",
    "    x=\"Economic Sector\",\n",
    "    y=\"population\",\n",
    "    title=\"Migrant Population in Each Economic Sector\",\n",
    "    labels={\"population\": \"Population\", \"Economic Sector\": \"Sector\"},\n",
    "    text=\"population\"  # Display the population as labels on the bars\n",
    ")"
   ]
  },
  {
   "cell_type": "code",
   "execution_count": 18,
   "id": "bfc2897d-7e05-4964-a081-4339ccaedae6",
   "metadata": {},
   "outputs": [],
   "source": [
    "fig.write_html(\"bar_chart.html\")"
   ]
  },
  {
   "cell_type": "code",
   "execution_count": null,
   "id": "c9c91d5f-3719-4819-bb74-da5676ef1ef8",
   "metadata": {},
   "outputs": [],
   "source": []
  }
 ],
 "metadata": {
  "kernelspec": {
   "display_name": "Python 3 (ipykernel)",
   "language": "python",
   "name": "python3"
  },
  "language_info": {
   "codemirror_mode": {
    "name": "ipython",
    "version": 3
   },
   "file_extension": ".py",
   "mimetype": "text/x-python",
   "name": "python",
   "nbconvert_exporter": "python",
   "pygments_lexer": "ipython3",
   "version": "3.9.7"
  }
 },
 "nbformat": 4,
 "nbformat_minor": 5
}
